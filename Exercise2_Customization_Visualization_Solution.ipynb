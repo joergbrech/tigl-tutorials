{
 "cells": [
  {
   "attachments": {
    "FlapCutout.png": {
     "image/png": "[encoded data removed]"
    }
   },
   "cell_type": "markdown",
   "metadata": {},
   "source": [
    "# Excercise 2: Customization and Visualization #\n",
    "\n",
    "The goal of this excercise is to change the wing shape, by creating a cutout for a wing flap. It should be done as follows\n",
    "\n",
    " - Get the existing wing shape from TiGL\n",
    " - Create a Box\n",
    " - Use the Box to cut away the wing using Boolean Operations\n",
    " - Visualize everything\n",
    " - Export the confguration and check, if the cutout is part of the aircraft\n",
    "\n",
    "In the end, it should look similar to the following image:\n",
    "\n",
    "![FlapCutout.png](attachment:FlapCutout.png)\n",
    "\n",
    "## Loading the modules ##\n",
    "\n",
    "As usual, load the required TiGL and TiXI modules\n"
   ]
  },
  {
   "cell_type": "code",
   "execution_count": 1,
   "metadata": {},
   "outputs": [],
   "source": [
    "from tixi3 import tixi3wrapper\n",
    "from tigl3 import tigl3wrapper\n",
    "import tigl3.configuration"
   ]
  },
  {
   "cell_type": "markdown",
   "metadata": {},
   "source": [
    "Again open a the CPACS file simpletest.xml using the \"old\" high-level python API."
   ]
  },
  {
   "cell_type": "code",
   "execution_count": 2,
   "metadata": {},
   "outputs": [],
   "source": [
    "tixi_handle = tixi3wrapper.Tixi3()\n",
    "tigl_handle = tigl3wrapper.Tigl3()\n",
    "\n",
    "tixi_handle.open(\"simpletest.cpacs.xml\")\n",
    "tigl_handle.open(tixi_handle, \"\")"
   ]
  },
  {
   "cell_type": "markdown",
   "metadata": {},
   "source": [
    "## Accessing wing with UID Manager ##\n",
    "Get the configuration manager from tigl3.configuration and retrieve the aircraft configuration first.\n",
    "\n",
    "This time, use the UID Manager from the aircraft configuration, to access the wing."
   ]
  },
  {
   "cell_type": "code",
   "execution_count": 3,
   "metadata": {},
   "outputs": [],
   "source": [
    "config_mgr = tigl3.configuration.CCPACSConfigurationManager_get_instance()\n",
    "aircraft_config = config_mgr.get_configuration(tigl_handle._handle.value)\n",
    "uid_mgr = aircraft_config.get_uidmanager()\n",
    "wing = uid_mgr.get_geometric_component(\"Wing\")"
   ]
  },
  {
   "cell_type": "markdown",
   "metadata": {},
   "source": [
    "## Create a box as a cutting tool ##\n",
    "\n",
    "Use the BRepPrimAPI_MakeBox command to create the box. What size do you need?"
   ]
  },
  {
   "cell_type": "code",
   "execution_count": 4,
   "metadata": {},
   "outputs": [],
   "source": [
    "from OCC.BRepPrimAPI import BRepPrimAPI_MakeBox\n",
    "box = BRepPrimAPI_MakeBox(0.3, 0.8, 0.3).Solid()"
   ]
  },
  {
   "cell_type": "markdown",
   "metadata": {},
   "source": [
    "- Figure out, which methods the transformation class offers\n",
    "- Now move the box to the trailing edge of the wing. Use ```CTiglTransformation``` from tigl3.geometry to do it.\n"
   ]
  },
  {
   "cell_type": "code",
   "execution_count": 5,
   "metadata": {},
   "outputs": [
    {
     "name": "stdout",
     "output_type": "stream",
     "text": [
      "Help on class CTiglTransformation in module tigl3.geometry:\n",
      "\n",
      "class CTiglTransformation(builtins.object)\n",
      " |  C++ includes:\n",
      " |  CTiglTransformation.h\n",
      " |  \n",
      " |  Methods defined here:\n",
      " |  \n",
      " |  Set(self, arg2)\n",
      " |      Set(CTiglTransformation self, CTiglTransformation arg2) -> CTiglTransformation\n",
      " |      \n",
      " |      Parameters\n",
      " |      ----------\n",
      " |      arg2: tigl::CTiglTransformation const &\n",
      " |  \n",
      " |  __del__ lambda self\n",
      " |  \n",
      " |  __getattr__ lambda self, name\n",
      " |  \n",
      " |  __init__(self, *args)\n",
      " |      __init__(tigl::CTiglTransformation self) -> CTiglTransformation\n",
      " |      __init__(tigl::CTiglTransformation self, gp_GTrsf const & ocMatrix) -> CTiglTransformation\n",
      " |      \n",
      " |      Parameters\n",
      " |      ----------\n",
      " |      ocMatrix: gp_GTrsf const &\n",
      " |      \n",
      " |      __init__(tigl::CTiglTransformation self, gp_Trsf const & trans) -> CTiglTransformation\n",
      " |      \n",
      " |      Parameters\n",
      " |      ----------\n",
      " |      trans: gp_Trsf const &\n",
      " |      \n",
      " |      \n",
      " |      tigl::CTiglTransformation::CTiglTransformation(const gp_Trsf &trans)\n",
      " |  \n",
      " |  __repr__ = _swig_repr(self)\n",
      " |  \n",
      " |  __setattr__ lambda self, name, value\n",
      " |  \n",
      " |  __swig_destroy__ = delete_CTiglTransformation(...)\n",
      " |      delete_CTiglTransformation(CTiglTransformation self)\n",
      " |      \n",
      " |      Parameters\n",
      " |      ----------\n",
      " |      self: tigl::CTiglTransformation *\n",
      " |      \n",
      " |      \n",
      " |      virtual tigl::CTiglTransformation::~CTiglTransformation()\n",
      " |  \n",
      " |  add_mirroring_at_xyplane(self)\n",
      " |      add_mirroring_at_xyplane(CTiglTransformation self)\n",
      " |      \n",
      " |      Parameters\n",
      " |      ----------\n",
      " |      self: tigl::CTiglTransformation *\n",
      " |      \n",
      " |      \n",
      " |      void\n",
      " |      tigl::CTiglTransformation::AddMirroringAtXYPlane()\n",
      " |  \n",
      " |  add_mirroring_at_xzplane(self)\n",
      " |      add_mirroring_at_xzplane(CTiglTransformation self)\n",
      " |      \n",
      " |      Parameters\n",
      " |      ----------\n",
      " |      self: tigl::CTiglTransformation *\n",
      " |      \n",
      " |      \n",
      " |      void\n",
      " |      tigl::CTiglTransformation::AddMirroringAtXZPlane()\n",
      " |  \n",
      " |  add_mirroring_at_yzplane(self)\n",
      " |      add_mirroring_at_yzplane(CTiglTransformation self)\n",
      " |      \n",
      " |      Parameters\n",
      " |      ----------\n",
      " |      self: tigl::CTiglTransformation *\n",
      " |      \n",
      " |      \n",
      " |      void\n",
      " |      tigl::CTiglTransformation::AddMirroringAtYZPlane()\n",
      " |  \n",
      " |  add_projection_on_xyplane(self)\n",
      " |      add_projection_on_xyplane(CTiglTransformation self)\n",
      " |      \n",
      " |      Parameters\n",
      " |      ----------\n",
      " |      self: tigl::CTiglTransformation *\n",
      " |      \n",
      " |      \n",
      " |      void\n",
      " |      tigl::CTiglTransformation::AddProjectionOnXYPlane()\n",
      " |  \n",
      " |  add_projection_on_xzplane(self)\n",
      " |      add_projection_on_xzplane(CTiglTransformation self)\n",
      " |      \n",
      " |      Parameters\n",
      " |      ----------\n",
      " |      self: tigl::CTiglTransformation *\n",
      " |      \n",
      " |      \n",
      " |      void\n",
      " |      tigl::CTiglTransformation::AddProjectionOnXZPlane()\n",
      " |  \n",
      " |  add_projection_on_yzplane(self)\n",
      " |      add_projection_on_yzplane(CTiglTransformation self)\n",
      " |      \n",
      " |      Parameters\n",
      " |      ----------\n",
      " |      self: tigl::CTiglTransformation *\n",
      " |      \n",
      " |      \n",
      " |      void\n",
      " |      tigl::CTiglTransformation::AddProjectionOnYZPlane()\n",
      " |  \n",
      " |  add_rotation_x(self, degreeX)\n",
      " |      add_rotation_x(CTiglTransformation self, double degreeX)\n",
      " |      \n",
      " |      Parameters\n",
      " |      ----------\n",
      " |      degreeX: double\n",
      " |      \n",
      " |      \n",
      " |      void\n",
      " |      tigl::CTiglTransformation::AddRotationX(double degreeX)\n",
      " |  \n",
      " |  add_rotation_y(self, degreeY)\n",
      " |      add_rotation_y(CTiglTransformation self, double degreeY)\n",
      " |      \n",
      " |      Parameters\n",
      " |      ----------\n",
      " |      degreeY: double\n",
      " |      \n",
      " |      \n",
      " |      void\n",
      " |      tigl::CTiglTransformation::AddRotationY(double degreeY)\n",
      " |  \n",
      " |  add_rotation_z(self, degreeZ)\n",
      " |      add_rotation_z(CTiglTransformation self, double degreeZ)\n",
      " |      \n",
      " |      Parameters\n",
      " |      ----------\n",
      " |      degreeZ: double\n",
      " |      \n",
      " |      \n",
      " |      void\n",
      " |      tigl::CTiglTransformation::AddRotationZ(double degreeZ)\n",
      " |  \n",
      " |  add_scaling(self, sx, sy, sz)\n",
      " |      add_scaling(CTiglTransformation self, double sx, double sy, double sz)\n",
      " |      \n",
      " |      Parameters\n",
      " |      ----------\n",
      " |      sx: double\n",
      " |      sy: double\n",
      " |      sz: double\n",
      " |      \n",
      " |      \n",
      " |      void\n",
      " |      tigl::CTiglTransformation::AddScaling(double sx, double sy, double sz)\n",
      " |  \n",
      " |  add_translation(self, tx, ty, tz)\n",
      " |      add_translation(CTiglTransformation self, double tx, double ty, double tz)\n",
      " |      \n",
      " |      Parameters\n",
      " |      ----------\n",
      " |      tx: double\n",
      " |      ty: double\n",
      " |      tz: double\n",
      " |      \n",
      " |      \n",
      " |      void tigl::CTiglTransformation::AddTranslation(double tx, double ty,\n",
      " |      double tz)\n",
      " |  \n",
      " |  get_gp_gtrsf(self)\n",
      " |      get_gp_gtrsf(CTiglTransformation self) -> gp_GTrsf\n",
      " |      \n",
      " |      Parameters\n",
      " |      ----------\n",
      " |      self: tigl::CTiglTransformation const *\n",
      " |      \n",
      " |      \n",
      " |      gp_GTrsf tigl::CTiglTransformation::Get_gp_GTrsf() const\n",
      " |  \n",
      " |  get_value(self, row, col)\n",
      " |      get_value(CTiglTransformation self, int row, int col) -> double\n",
      " |      \n",
      " |      Parameters\n",
      " |      ----------\n",
      " |      row: int\n",
      " |      col: int\n",
      " |      \n",
      " |      \n",
      " |      double\n",
      " |      tigl::CTiglTransformation::GetValue(int row, int col) const\n",
      " |  \n",
      " |  inverted(self)\n",
      " |      inverted(CTiglTransformation self) -> CTiglTransformation\n",
      " |      \n",
      " |      Parameters\n",
      " |      ----------\n",
      " |      self: tigl::CTiglTransformation const *\n",
      " |      \n",
      " |      \n",
      " |      CTiglTransformation tigl::CTiglTransformation::Inverted() const\n",
      " |  \n",
      " |  post_multiply(self, aTrans)\n",
      " |      post_multiply(CTiglTransformation self, CTiglTransformation aTrans)\n",
      " |      \n",
      " |      Parameters\n",
      " |      ----------\n",
      " |      aTrans: tigl::CTiglTransformation const &\n",
      " |      \n",
      " |      \n",
      " |      void\n",
      " |      tigl::CTiglTransformation::PostMultiply(const CTiglTransformation\n",
      " |      &aTrans)\n",
      " |  \n",
      " |  pre_multiply(self, aTrans)\n",
      " |      pre_multiply(CTiglTransformation self, CTiglTransformation aTrans)\n",
      " |      \n",
      " |      Parameters\n",
      " |      ----------\n",
      " |      aTrans: tigl::CTiglTransformation const &\n",
      " |      \n",
      " |      \n",
      " |      void\n",
      " |      tigl::CTiglTransformation::PreMultiply(const CTiglTransformation\n",
      " |      &aTrans)\n",
      " |  \n",
      " |  set_identity(self)\n",
      " |      set_identity(CTiglTransformation self)\n",
      " |      \n",
      " |      Parameters\n",
      " |      ----------\n",
      " |      self: tigl::CTiglTransformation *\n",
      " |      \n",
      " |      \n",
      " |      void\n",
      " |      tigl::CTiglTransformation::SetIdentity()\n",
      " |  \n",
      " |  set_value(self, row, col, value)\n",
      " |      set_value(CTiglTransformation self, int row, int col, double value)\n",
      " |      \n",
      " |      Parameters\n",
      " |      ----------\n",
      " |      row: int\n",
      " |      col: int\n",
      " |      value: double\n",
      " |      \n",
      " |      \n",
      " |      void\n",
      " |      tigl::CTiglTransformation::SetValue(int row, int col, double value)\n",
      " |  \n",
      " |  transform(self, *args)\n",
      " |      transform(CTiglTransformation self, TopoDS_Shape const & shape) -> TopoDS_Shape\n",
      " |      \n",
      " |      Parameters\n",
      " |      ----------\n",
      " |      shape: TopoDS_Shape const &\n",
      " |      \n",
      " |      transform(CTiglTransformation self, gp_Pnt const & point) -> gp_Pnt\n",
      " |      \n",
      " |      Parameters\n",
      " |      ----------\n",
      " |      point: gp_Pnt const &\n",
      " |      \n",
      " |      \n",
      " |      gp_Pnt\n",
      " |      tigl::CTiglTransformation::Transform(const gp_Pnt &point) const\n",
      " |  \n",
      " |  ----------------------------------------------------------------------\n",
      " |  Static methods defined here:\n",
      " |  \n",
      " |  degree_to_radian(degree)\n",
      " |      degree_to_radian(double degree) -> double\n",
      " |      \n",
      " |      Parameters\n",
      " |      ----------\n",
      " |      degree: double\n",
      " |  \n",
      " |  radian_to_degree(radian)\n",
      " |      radian_to_degree(double radian) -> double\n",
      " |      \n",
      " |      Parameters\n",
      " |      ----------\n",
      " |      radian: double\n",
      " |  \n",
      " |  ----------------------------------------------------------------------\n",
      " |  Data descriptors defined here:\n",
      " |  \n",
      " |  __dict__\n",
      " |      dictionary for instance variables (if defined)\n",
      " |  \n",
      " |  __weakref__\n",
      " |      list of weak references to the object (if defined)\n",
      " |  \n",
      " |  ----------------------------------------------------------------------\n",
      " |  Data and other attributes defined here:\n",
      " |  \n",
      " |  __swig_getmethods__ = {}\n",
      " |  \n",
      " |  __swig_setmethods__ = {}\n",
      "\n"
     ]
    }
   ],
   "source": [
    "from tigl3.geometry import CTiglTransformation\n",
    "help(CTiglTransformation)\n",
    "\n",
    "trafo = CTiglTransformation()\n",
    "trafo.add_translation(0.8, 0.6, -0.15)\n",
    "\n",
    "moved_box = trafo.transform(box)"
   ]
  },
  {
   "cell_type": "markdown",
   "metadata": {},
   "source": [
    " - Create a named shape of the box, which is still of type TopoDS_Shape\n",
    " - Reminder: CNamedShape is the class you are looking for"
   ]
  },
  {
   "cell_type": "code",
   "execution_count": 6,
   "metadata": {},
   "outputs": [],
   "source": [
    "from tigl3.geometry import CNamedShape\n",
    "namedBox = CNamedShape(moved_box, \"CutOut\")"
   ]
  },
  {
   "cell_type": "markdown",
   "metadata": {},
   "source": [
    "## Create the wing cutout ##\n",
    "\n",
    "Use class ```CCutShape``` from ```tigl3.boolean_ops``` to create the wing cutout.\n",
    "\n",
    " 1. Create the cutting tool\n",
    " 2. Get the resulting shape from the cutter using the ```named_shape()``` method"
   ]
  },
  {
   "cell_type": "code",
   "execution_count": 7,
   "metadata": {},
   "outputs": [],
   "source": [
    "from tigl3.boolean_ops import CCutShape\n",
    "# cut the box from the wing\n",
    "cutter = CCutShape(wing.get_loft(), namedBox)\n",
    "cutted_wing_shape = cutter.named_shape()"
   ]
  },
  {
   "cell_type": "markdown",
   "metadata": {},
   "source": [
    "## Apply the resulting shape to the wing component ##\n",
    "\n",
    "The new wing shape has to be put back into the wing component. This way, it will be available for the exports.\n",
    "\n",
    "Use the ```.Set(shape)``` method of the wing loft!"
   ]
  },
  {
   "cell_type": "code",
   "execution_count": 8,
   "metadata": {},
   "outputs": [
    {
     "data": {
      "text/plain": [
       "<tigl3.geometry.CNamedShape; proxy of <Swig Object of type 'PNamedShape *' at 0x00000000048C96F0> >"
      ]
     },
     "execution_count": 8,
     "metadata": {},
     "output_type": "execute_result"
    }
   ],
   "source": [
    "wing.get_loft().Set(cutted_wing_shape)"
   ]
  },
  {
   "cell_type": "markdown",
   "metadata": {},
   "source": [
    "## Exporting the result ##\n",
    "Lets export the __fused aircraft__ to a _\\*.stp_ STEP file and open the file in TiGL Viewer. Does it look as expected?"
   ]
  },
  {
   "cell_type": "code",
   "execution_count": 9,
   "metadata": {},
   "outputs": [],
   "source": [
    "tigl_handle.setExportOptions(\"stp\", \"IncludeFarfield\", \"False\")\n",
    "tigl_handle.setExportOptions(\"stp\", \"ApplySymmetries\", \"True\")\n",
    "tigl_handle.exportConfiguration(\"exercise2.stp\", True, 0.001)"
   ]
  },
  {
   "attachments": {},
   "cell_type": "markdown",
   "metadata": {},
   "source": [
    "## Visualization: SimpleGui ##\n",
    "\n",
    "Lets finally draw something. You are free here to play around.\n",
    "\n",
    "You can:\n",
    " - Try to change colors\n",
    " - Draw multiple shapes (e.g. also the box)\n",
    " - Use transparancy\n",
    " - Challenge: Are you able to put a texture on the wing?\n",
    " \n",
    "Here are some helpful links:\n",
    " - https://github.com/tpaviot/pythonocc-core/tree/0.17.3/examples (pythonOCC examples, including visualization)\n",
    " - https://www.opencascade.com/doc/occt-7.3.0/overview/html/occt_user_guides__visualization.html (OpenCASCADE Visualization Documentation)\n"
   ]
  },
  {
   "cell_type": "code",
   "execution_count": 10,
   "metadata": {},
   "outputs": [
    {
     "name": "stdout",
     "output_type": "stream",
     "text": [
      "INFO:OCC.Display.backend:backend loaded: qt-pyqt5\n",
      "INFO:OCC.Display.SimpleGui:GUI backend set to: qt-pyqt5\n"
     ]
    }
   ],
   "source": [
    "from OCC.Display.SimpleGui import init_display\n",
    "display, start_display, add_menu, add_function_to_menu = init_display()\n",
    "\n",
    "display.DisplayShape(wing.get_loft().shape())\n",
    "\n",
    "display.FitAll()\n",
    "start_display()"
   ]
  },
  {
   "cell_type": "markdown",
   "metadata": {},
   "source": [
    "## Visualization in Jupyter ##\n",
    "\n",
    "Now lets play with the experimental Jupyter renderer.\n",
    "\n",
    "Create the renderer first"
   ]
  },
  {
   "cell_type": "code",
   "execution_count": 11,
   "metadata": {},
   "outputs": [],
   "source": [
    "from OCC.Display.WebGl.jupyter_renderer import JupyterRenderer\n",
    "viewer = JupyterRenderer()"
   ]
  },
  {
   "cell_type": "markdown",
   "metadata": {},
   "source": [
    "Add some shapes"
   ]
  },
  {
   "cell_type": "code",
   "execution_count": 12,
   "metadata": {},
   "outputs": [],
   "source": [
    "viewer.DisplayShape(wing.get_loft().shape())"
   ]
  },
  {
   "cell_type": "markdown",
   "metadata": {},
   "source": [
    "And finally draw the scene"
   ]
  },
  {
   "cell_type": "code",
   "execution_count": 13,
   "metadata": {},
   "outputs": [
    {
     "data": {
      "application/vnd.jupyter.widget-view+json": {
       "model_id": "2c513bb69fa044e8935f5da69d618518",
       "version_major": 2,
       "version_minor": 0
      },
      "text/plain": [
       "HBox(children=(Renderer(background='white', camera=PerspectiveCamera(children=(DirectionalLight(intensity=0.9,…"
      ]
     },
     "metadata": {},
     "output_type": "display_data"
    },
    {
     "data": {
      "text/plain": []
     },
     "execution_count": 13,
     "metadata": {},
     "output_type": "execute_result"
    }
   ],
   "source": [
    "viewer"
   ]
  },
  {
   "cell_type": "code",
   "execution_count": null,
   "metadata": {},
   "outputs": [],
   "source": []
  }
 ],
 "metadata": {
  "kernelspec": {
   "display_name": "Python 3",
   "language": "python",
   "name": "python3"
  },
  "language_info": {
   "codemirror_mode": {
    "name": "ipython",
    "version": 3
   },
   "file_extension": ".py",
   "mimetype": "text/x-python",
   "name": "python",
   "nbconvert_exporter": "python",
   "pygments_lexer": "ipython3",
   "version": "3.5.6"
  }
 },
 "nbformat": 4,
 "nbformat_minor": 2
}
